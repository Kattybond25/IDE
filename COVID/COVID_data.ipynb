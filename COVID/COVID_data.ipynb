{
 "cells": [
  {
   "cell_type": "code",
   "execution_count": 5,
   "metadata": {},
   "outputs": [
    {
     "data": {
      "text/plain": [
       "(86785, 16)"
      ]
     },
     "metadata": {},
     "output_type": "display_data"
    }
   ],
   "source": [
    "import pandas as pd\n",
    "covid_data = pd.read_csv(\"C:/Users/HONOR/OneDrive/Рабочий стол/IDE/COVID/covid_data.csv\")\n",
    "#display(covid_data.head())\n",
    "vaccinations_data = pd.read_csv(\"C:/Users/HONOR/OneDrive/Рабочий стол/IDE/COVID/country_vaccinations.csv\")\n",
    "vaccinations_data = vaccinations_data[['country', 'date', 'total_vaccinations', 'people_vaccinated', 'people_vaccinated_per_hundred', 'people_fully_vaccinated', 'people_fully_vaccinated_per_hundred', 'daily_vaccinations', 'vaccines']]\n",
    "#print(vaccinations_data.head())\n",
    "covid_data = covid_data.groupby(['date', 'country'], as_index=False)[['confirmed', 'deaths', 'recovered']].sum()\n",
    "covid_data['date'] = pd.to_datetime(covid_data['date'])\n",
    "covid_data['active'] = covid_data['confirmed'] - covid_data['deaths'] - covid_data['recovered']\n",
    "covid_data = covid_data.sort_values(by=['country', 'date'])\n",
    "covid_data['daily_confirmed'] = covid_data.groupby('country')['confirmed'].diff()\n",
    "covid_data['daily_deaths'] = covid_data.groupby('country')['deaths'].diff()\n",
    "covid_data['daily_recovered'] = covid_data.groupby('country')['recovered'].diff()\n",
    "#display(covid_data)\n",
    "vaccinations_data['date'] = pd.to_datetime(vaccinations_data['date'])\n",
    "#print(covid_data['date'].min())\n",
    "#print(covid_data['date'].max())\n",
    "#print(vaccinations_data['date'].min())\n",
    "#print(vaccinations_data['date'].max())\n",
    "# Найдите минимальную и максимальную даты исследований\n",
    "start_date = covid_data['date'].min()\n",
    "end_date = covid_data['date'].max()\n",
    "covid_data=covid_data[(covid_data['date']>=start_date) & (covid_data['date']<=end_date)]\n",
    "vaccinations_data=vaccinations_data[(vaccinations_data['date']>=start_date)&(vaccinations_data['date']<=end_date)]\n",
    "covid_df = covid_data.merge(vaccinations_data, on=['date', 'country'], how='left')\n",
    "covid_df.to_csv('covid_df.csv', index=False)\n",
    "display(covid_df.shape)\n",
    "#print(vaccinations_data.shape)\n",
    "#print(covid_data.shape)\n",
    "covid_data['death_rate'] = (covid_data['deaths'] / covid_data['confirmed']) * 100\n",
    "covid_data['recover_rate'] = (covid_data['recovered'] / covid_data['confirmed']) * 100\n",
    "#max_death=covid_data[covid_data['country']=='United States']['death_rate'].max()\n",
    "#print(max_death)\n",
    "#average_recovered_Russia=covid_data[covid_data['country']=='Russia']['recover_rate'].mean()\n",
    "#print(average_recovered_Russia)\n",
    "#grouped_cases = covid_df.groupby('date')['daily_confirmed'].sum()\n",
    "#grouped_cases.plot(\n",
    "#    kind='line',\n",
    "#    figsize=(12, 4),\n",
    "#    title='Ежедневная заболеваемость во времени',\n",
    "#    grid = True,\n",
    "#    lw=3\n",
    "#)\n",
    "#grouped_cases = covid_data.groupby('date')['daily_confirmed'].sum()\n",
    "#grouped_cases.plot(\n",
    "#    kind='hist',\n",
    "#    figsize=(10, 6),\n",
    "#    title='Распределение ежедневной заболеваемости',\n",
    "#    grid = True,\n",
    "#    color = 'black',\n",
    "#    bins=10\n",
    "#)\n",
    "#grouped_country = covid_data.groupby(['country'])['confirmed'].last()\n",
    "#grouped_country = grouped_country.nlargest(10)\n",
    "#grouped_country.plot(\n",
    "#    kind='bar',\n",
    "#    grid=True,\n",
    "#   figsize=(12, 4),\n",
    "#    colormap='plasma'\n",
    "#)\n",
    "\n",
    "#covid_df.groupby(['country'])['total_vaccinations'].last().nsmallest(5).plot(kind='bar')\n",
    "\n",
    "\n"
   ]
  }
 ],
 "metadata": {
  "kernelspec": {
   "display_name": "Python 3",
   "language": "python",
   "name": "python3"
  },
  "language_info": {
   "codemirror_mode": {
    "name": "ipython",
    "version": 3
   },
   "file_extension": ".py",
   "mimetype": "text/x-python",
   "name": "python",
   "nbconvert_exporter": "python",
   "pygments_lexer": "ipython3",
   "version": "3.11.5"
  }
 },
 "nbformat": 4,
 "nbformat_minor": 2
}
