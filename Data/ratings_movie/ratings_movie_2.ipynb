{
 "cells": [
  {
   "cell_type": "code",
   "execution_count": 68,
   "metadata": {},
   "outputs": [
    {
     "name": "stdout",
     "output_type": "stream",
     "text": [
      "<class 'pandas.core.series.Series'>\n",
      "RangeIndex: 9742 entries, 0 to 9741\n",
      "Series name: title\n",
      "Non-Null Count  Dtype \n",
      "--------------  ----- \n",
      "9742 non-null   object\n",
      "dtypes: object(1)\n",
      "memory usage: 76.2+ KB\n",
      "None\n",
      "(9742,)\n",
      "13\n",
      "title\n",
      "Emma (1996)                               2\n",
      "War of the Worlds (2005)                  2\n",
      "Confessions of a Dangerous Mind (2002)    2\n",
      "Eros (2004)                               2\n",
      "Saturn 3 (1980)                           2\n",
      "                                         ..\n",
      "Lost and Delirious (2001)                 1\n",
      "Rape Me (Baise-moi) (2000)                1\n",
      "Alice (1990)                              1\n",
      "Another Woman (1988)                      1\n",
      "Andrew Dice Clay: Dice Rules (1991)       1\n",
      "Name: count, Length: 9737, dtype: int64\n"
     ]
    }
   ],
   "source": [
    "import pandas as pd\n",
    "ratings1=pd.read_csv('C:/Users/HONOR/OneDrive/Рабочий стол/IDE/Data/ratings_movie/ratings1.csv', sep=',')\n",
    "ratings2=pd.read_csv(\"C:/Users/HONOR/OneDrive/Рабочий стол/IDE/Data/ratings_movie/ratings1.csv\", sep=',')\n",
    "dates=pd.read_csv(\"C:/Users/HONOR/OneDrive/Рабочий стол/IDE/Data/ratings_movie/dates.csv\", sep=',')\n",
    "movies=pd.read_csv(\"C:/Users/HONOR/OneDrive/Рабочий стол/IDE/Data/ratings_movie/movies.csv\", sep=',')\n",
    "#unique_users_1=ratings1['userId'].drop_duplicates()\n",
    "#print(unique_users_1)\n",
    "ratings = pd.concat([ratings1, ratings2])\n",
    "#display(ratings)\n",
    "ratings = pd.concat(\n",
    "    [ratings1, ratings2],\n",
    "    ignore_index=True\n",
    ")\n",
    "ratings = ratings.drop_duplicates(ignore_index=True)\n",
    "#print('Число строк в таблице ratings: ', ratings.shape[0])\n",
    "# Число строк в таблице ratings: 100836\n",
    "ratings_dates = pd.concat([ratings, dates], axis=1)\n",
    "#display(ratings_dates.tail(7))\n",
    "#movies['release_year']=movies[movies['title'].str.extract(r'\\(\\d{4}\\)')]\n",
    "#counts_none=len(movies_none)\n",
    "#count_missing_year=movies['release_year'].sum()\n",
    "#print(movies['release_year'])\n",
    "import re \n",
    "def get_year_release(arg):\n",
    "    #находим все слова по шаблону \"(DDDD)\"\n",
    "    candidates = re.findall(r'\\(\\d{4}\\)', arg) \n",
    "    # проверяем число вхождений\n",
    "    if len(candidates) > 0:\n",
    "        #если число вхождений больше 0,\n",
    "\t#очищаем строку от знаков \"(\" и \")\"\n",
    "        year = candidates[0].replace('(', '')\n",
    "        year = year.replace(')', '')\n",
    "        return int(year)\n",
    "    else:\n",
    "        #если год не указан, возвращаем None\n",
    "        return None\n",
    "#print(movies.shape)\n",
    "movies['release_year']=movies['title'].apply(get_year_release)\n",
    "#print(movies['title'].value_counts())\n",
    "#years=[get_year_release(item) for item in movies]\n",
    "#none_values=[year for year in years if year is None]\n",
    "#sum_of=sum(1 for year in none_values if year is None)\n",
    "#print(sum_of)\n",
    "count_missing_year=movies['title'].apply(get_year_release).isna().sum()\n",
    "missing_release_year=movies['release_year'].isna().sum()\n",
    "#missing_release_year=(movies['release_year']==True).sum()\n",
    "print(movies['title'].info())\n",
    "print(movies['title'].shape)\n",
    "print(missing_release_year)\n",
    "print(movies['title'].value_counts())\n",
    "\n",
    "\n"
   ]
  }
 ],
 "metadata": {
  "kernelspec": {
   "display_name": "Python 3",
   "language": "python",
   "name": "python3"
  },
  "language_info": {
   "codemirror_mode": {
    "name": "ipython",
    "version": 3
   },
   "file_extension": ".py",
   "mimetype": "text/x-python",
   "name": "python",
   "nbconvert_exporter": "python",
   "pygments_lexer": "ipython3",
   "version": "3.11.5"
  }
 },
 "nbformat": 4,
 "nbformat_minor": 2
}
